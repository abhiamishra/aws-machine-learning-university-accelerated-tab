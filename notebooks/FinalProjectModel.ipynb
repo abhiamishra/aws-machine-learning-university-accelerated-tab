{
 "cells": [
  {
   "cell_type": "code",
   "execution_count": 51,
   "id": "e440f1c5",
   "metadata": {},
   "outputs": [
    {
     "name": "stdout",
     "output_type": "stream",
     "text": [
      "Collecting imblearn\n",
      "  Downloading imblearn-0.0-py2.py3-none-any.whl (1.9 kB)\n",
      "Collecting imbalanced-learn\n",
      "  Downloading imbalanced_learn-0.9.0-py3-none-any.whl (199 kB)\n",
      "Collecting scikit-learn>=1.0.1\n",
      "  Downloading scikit_learn-1.0.2-cp38-cp38-win_amd64.whl (7.2 MB)\n",
      "Requirement already satisfied: scipy>=1.1.0 in c:\\users\\abhi\\anaconda3\\lib\\site-packages (from imbalanced-learn->imblearn) (1.6.2)\n",
      "Requirement already satisfied: numpy>=1.14.6 in c:\\users\\abhi\\anaconda3\\lib\\site-packages (from imbalanced-learn->imblearn) (1.16.6)\n",
      "Requirement already satisfied: joblib>=0.11 in c:\\users\\abhi\\anaconda3\\lib\\site-packages (from imbalanced-learn->imblearn) (1.0.1)\n",
      "Requirement already satisfied: threadpoolctl>=2.0.0 in c:\\users\\abhi\\anaconda3\\lib\\site-packages (from imbalanced-learn->imblearn) (2.1.0)\n",
      "Installing collected packages: scikit-learn, imbalanced-learn, imblearn\n",
      "  Attempting uninstall: scikit-learn\n",
      "    Found existing installation: scikit-learn 0.24.1\n",
      "    Uninstalling scikit-learn-0.24.1:\n",
      "      Successfully uninstalled scikit-learn-0.24.1\n",
      "Successfully installed imbalanced-learn-0.9.0 imblearn-0.0 scikit-learn-1.0.2\n",
      "Note: you may need to restart the kernel to use updated packages.\n"
     ]
    },
    {
     "name": "stderr",
     "output_type": "stream",
     "text": [
      "ERROR: pip's dependency resolver does not currently take into account all the packages that are installed. This behaviour is the source of the following dependency conflicts.\n",
      "forestci 0.5.1 requires numpy>=1.18.4, but you have numpy 1.16.6 which is incompatible.\n"
     ]
    }
   ],
   "source": [
    "pip install imblearn"
   ]
  },
  {
   "cell_type": "code",
   "execution_count": 33,
   "id": "22142528",
   "metadata": {},
   "outputs": [],
   "source": [
    "#Importing libraries\n",
    "import xgboost\n",
    "from xgboost import XGBRFClassifier\n",
    "\n",
    "import os\n",
    "import pandas as pd\n",
    "import numpy as np\n",
    "from numpy import mean\n",
    "from numpy import std\n",
    "import matplotlib as plt\n",
    "import seaborn as sns\n",
    "from matplotlib import pyplot\n",
    "\n",
    "import imblearn\n",
    "from sklearn.preprocessing import LabelEncoder\n",
    "from sklearn.preprocessing import OrdinalEncoder\n",
    "from sklearn.preprocessing import OneHotEncoder\n",
    "from sklearn.model_selection import train_test_split\n",
    "from sklearn.ensemble import RandomForestClassifier\n",
    "from sklearn.metrics import confusion_matrix, accuracy_score\n",
    "from sklearn.metrics import classification_report"
   ]
  },
  {
   "cell_type": "code",
   "execution_count": 114,
   "id": "b364a58f",
   "metadata": {},
   "outputs": [
    {
     "data": {
      "text/html": [
       "<div>\n",
       "<style scoped>\n",
       "    .dataframe tbody tr th:only-of-type {\n",
       "        vertical-align: middle;\n",
       "    }\n",
       "\n",
       "    .dataframe tbody tr th {\n",
       "        vertical-align: top;\n",
       "    }\n",
       "\n",
       "    .dataframe thead th {\n",
       "        text-align: right;\n",
       "    }\n",
       "</style>\n",
       "<table border=\"1\" class=\"dataframe\">\n",
       "  <thead>\n",
       "    <tr style=\"text-align: right;\">\n",
       "      <th></th>\n",
       "      <th>Pet ID</th>\n",
       "      <th>Outcome Type</th>\n",
       "      <th>Sex upon Outcome</th>\n",
       "      <th>Name</th>\n",
       "      <th>Found Location</th>\n",
       "      <th>Intake Type</th>\n",
       "      <th>Intake Condition</th>\n",
       "      <th>Pet Type</th>\n",
       "      <th>Sex upon Intake</th>\n",
       "      <th>Breed</th>\n",
       "      <th>Color</th>\n",
       "      <th>Age upon Intake Days</th>\n",
       "    </tr>\n",
       "  </thead>\n",
       "  <tbody>\n",
       "    <tr>\n",
       "      <th>0</th>\n",
       "      <td>A782657</td>\n",
       "      <td>Adoption</td>\n",
       "      <td>Spayed Female</td>\n",
       "      <td>NaN</td>\n",
       "      <td>1911 Dear Run Drive in Austin (TX)</td>\n",
       "      <td>Stray</td>\n",
       "      <td>Normal</td>\n",
       "      <td>Dog</td>\n",
       "      <td>Intact Female</td>\n",
       "      <td>Labrador Retriever Mix</td>\n",
       "      <td>Black</td>\n",
       "      <td>60</td>\n",
       "    </tr>\n",
       "    <tr>\n",
       "      <th>1</th>\n",
       "      <td>A804622</td>\n",
       "      <td>Adoption</td>\n",
       "      <td>Neutered Male</td>\n",
       "      <td>NaN</td>\n",
       "      <td>702 Grand Canyon in Austin (TX)</td>\n",
       "      <td>Stray</td>\n",
       "      <td>Normal</td>\n",
       "      <td>Dog</td>\n",
       "      <td>Intact Male</td>\n",
       "      <td>Boxer/Anatol Shepherd</td>\n",
       "      <td>Brown/Tricolor</td>\n",
       "      <td>60</td>\n",
       "    </tr>\n",
       "    <tr>\n",
       "      <th>2</th>\n",
       "      <td>A786693</td>\n",
       "      <td>Return to Owner</td>\n",
       "      <td>Neutered Male</td>\n",
       "      <td>Zeus</td>\n",
       "      <td>Austin (TX)</td>\n",
       "      <td>Public Assist</td>\n",
       "      <td>Normal</td>\n",
       "      <td>Dog</td>\n",
       "      <td>Neutered Male</td>\n",
       "      <td>Australian Cattle Dog/Pit Bull</td>\n",
       "      <td>Black/White</td>\n",
       "      <td>3285</td>\n",
       "    </tr>\n",
       "    <tr>\n",
       "      <th>3</th>\n",
       "      <td>A693330</td>\n",
       "      <td>Adoption</td>\n",
       "      <td>Spayed Female</td>\n",
       "      <td>Hope</td>\n",
       "      <td>Levander Loop &amp; Airport Blvd in Austin (TX)</td>\n",
       "      <td>Stray</td>\n",
       "      <td>Normal</td>\n",
       "      <td>Dog</td>\n",
       "      <td>Intact Female</td>\n",
       "      <td>Miniature Poodle</td>\n",
       "      <td>Gray</td>\n",
       "      <td>1825</td>\n",
       "    </tr>\n",
       "    <tr>\n",
       "      <th>4</th>\n",
       "      <td>A812431</td>\n",
       "      <td>Adoption</td>\n",
       "      <td>Neutered Male</td>\n",
       "      <td>NaN</td>\n",
       "      <td>Austin (TX)</td>\n",
       "      <td>Owner Surrender</td>\n",
       "      <td>Injured</td>\n",
       "      <td>Cat</td>\n",
       "      <td>Intact Male</td>\n",
       "      <td>Domestic Shorthair</td>\n",
       "      <td>Blue/White</td>\n",
       "      <td>210</td>\n",
       "    </tr>\n",
       "  </tbody>\n",
       "</table>\n",
       "</div>"
      ],
      "text/plain": [
       "    Pet ID     Outcome Type Sex upon Outcome  Name  \\\n",
       "0  A782657         Adoption    Spayed Female   NaN   \n",
       "1  A804622         Adoption    Neutered Male   NaN   \n",
       "2  A786693  Return to Owner    Neutered Male  Zeus   \n",
       "3  A693330         Adoption    Spayed Female  Hope   \n",
       "4  A812431         Adoption    Neutered Male   NaN   \n",
       "\n",
       "                                Found Location      Intake Type  \\\n",
       "0           1911 Dear Run Drive in Austin (TX)            Stray   \n",
       "1              702 Grand Canyon in Austin (TX)            Stray   \n",
       "2                                  Austin (TX)    Public Assist   \n",
       "3  Levander Loop & Airport Blvd in Austin (TX)            Stray   \n",
       "4                                  Austin (TX)  Owner Surrender   \n",
       "\n",
       "  Intake Condition Pet Type Sex upon Intake                           Breed  \\\n",
       "0           Normal      Dog   Intact Female          Labrador Retriever Mix   \n",
       "1           Normal      Dog     Intact Male           Boxer/Anatol Shepherd   \n",
       "2           Normal      Dog   Neutered Male  Australian Cattle Dog/Pit Bull   \n",
       "3           Normal      Dog   Intact Female                Miniature Poodle   \n",
       "4          Injured      Cat     Intact Male              Domestic Shorthair   \n",
       "\n",
       "            Color  Age upon Intake Days  \n",
       "0           Black                    60  \n",
       "1  Brown/Tricolor                    60  \n",
       "2     Black/White                  3285  \n",
       "3            Gray                  1825  \n",
       "4      Blue/White                   210  "
      ]
     },
     "execution_count": 114,
     "metadata": {},
     "output_type": "execute_result"
    }
   ],
   "source": [
    "#Getting Dataset\n",
    "training = pd.read_csv('../data/final_project/training.csv')\n",
    "testing = pd.read_csv('../data/final_project/test_features.csv')\n",
    "y_test = pd.read_csv('../data/final_project/y_test.csv', header=None)\n",
    "testing.head()"
   ]
  },
  {
   "cell_type": "code",
   "execution_count": 115,
   "id": "3a0d79d4",
   "metadata": {},
   "outputs": [
    {
     "data": {
      "text/plain": [
       "(71538, 13)"
      ]
     },
     "execution_count": 115,
     "metadata": {},
     "output_type": "execute_result"
    }
   ],
   "source": [
    "#Basic EDA to learn more about the dataset\n",
    "training.shape"
   ]
  },
  {
   "cell_type": "code",
   "execution_count": 116,
   "id": "66c208a3",
   "metadata": {},
   "outputs": [
    {
     "name": "stdout",
     "output_type": "stream",
     "text": [
      "<class 'pandas.core.frame.DataFrame'>\n",
      "RangeIndex: 71538 entries, 0 to 71537\n",
      "Data columns (total 13 columns):\n",
      " #   Column                Non-Null Count  Dtype \n",
      "---  ------                --------------  ----- \n",
      " 0   Pet ID                71538 non-null  object\n",
      " 1   Outcome Type          71533 non-null  object\n",
      " 2   Sex upon Outcome      71537 non-null  object\n",
      " 3   Name                  44360 non-null  object\n",
      " 4   Found Location        71538 non-null  object\n",
      " 5   Intake Type           71538 non-null  object\n",
      " 6   Intake Condition      71538 non-null  object\n",
      " 7   Pet Type              71538 non-null  object\n",
      " 8   Sex upon Intake       71537 non-null  object\n",
      " 9   Breed                 71538 non-null  object\n",
      " 10  Color                 71538 non-null  object\n",
      " 11  Age upon Intake Days  71538 non-null  int64 \n",
      " 12  Time at Center        71538 non-null  int64 \n",
      "dtypes: int64(2), object(11)\n",
      "memory usage: 7.1+ MB\n"
     ]
    }
   ],
   "source": [
    "training.info()"
   ]
  },
  {
   "cell_type": "code",
   "execution_count": 117,
   "id": "29ba0db5",
   "metadata": {},
   "outputs": [
    {
     "data": {
      "text/plain": [
       "Text(0.5, 1.0, 'Class Breakdown')"
      ]
     },
     "execution_count": 117,
     "metadata": {},
     "output_type": "execute_result"
    },
    {
     "data": {
      "image/png": "[encoded data removed]",
      "text/plain": [
       "<Figure size 432x288 with 1 Axes>"
      ]
     },
     "metadata": {
      "needs_background": "light"
     },
     "output_type": "display_data"
    }
   ],
   "source": [
    "#Goal: Classify whether the animals will be transferred or adopted \n",
    "\n",
    "#Exploratory Data Analysis shows that the main two classes are unbalanced! Since we have substantially more 0s than 1s, we balance the dataset\n",
    "sns.countplot(x=training['Time at Center']).set_title(\"Class Breakdown\")"
   ]
  },
  {
   "cell_type": "code",
   "execution_count": 118,
   "id": "eea2e87a",
   "metadata": {},
   "outputs": [],
   "source": [
    "training = training.drop([\"Name\", \"Found Location\"], axis=1)\n",
    "testing = testing.drop([\"Name\", \"Found Location\"], axis=1)\n",
    "testing.dropna()\n",
    "testing.dropna()\n",
    "\n",
    "X_train = training.iloc[:, 1:-1].values\n",
    "X_test = testing.iloc[:, 1:].values\n",
    "y_train = training.iloc[:,-1].values\n",
    "y_test = y_test.iloc[:,-1].values"
   ]
  },
  {
   "cell_type": "code",
   "execution_count": 119,
   "id": "1116f9a2",
   "metadata": {},
   "outputs": [
    {
     "data": {
      "text/plain": [
       "Text(0.5, 1.0, 'Class Breakdown - Balanced')"
      ]
     },
     "execution_count": 119,
     "metadata": {},
     "output_type": "execute_result"
    },
    {
     "data": {
      "image/png": "[encoded data removed]",
      "text/plain": [
       "<Figure size 432x288 with 1 Axes>"
      ]
     },
     "metadata": {
      "needs_background": "light"
     },
     "output_type": "display_data"
    }
   ],
   "source": [
    "from imblearn.under_sampling import RandomUnderSampler\n",
    "under_sampler = RandomUnderSampler(sampling_strategy='majority')\n",
    "X_bal, y_bal = under_sampler.fit_resample(X_train, y_train)\n",
    "sns.countplot(x=y_bal).set_title(\"Class Breakdown - Balanced\")"
   ]
  },
  {
   "cell_type": "code",
   "execution_count": 120,
   "id": "1445058a",
   "metadata": {},
   "outputs": [],
   "source": [
    "#One-hot encoding the variables in the factors dataset\n",
    "x_encoder = OneHotEncoder(handle_unknown = 'ignore')\n",
    "x_encoder.fit(X_bal)\n",
    "encX_train = x_encoder.transform(X_bal)\n",
    "encX_test = x_encoder.transform(X_test)"
   ]
  },
  {
   "cell_type": "code",
   "execution_count": 121,
   "id": "d728af07",
   "metadata": {},
   "outputs": [
    {
     "data": {
      "text/plain": [
       "RandomForestClassifier(criterion='entropy', random_state=0)"
      ]
     },
     "execution_count": 121,
     "metadata": {},
     "output_type": "execute_result"
    }
   ],
   "source": [
    "classifier = RandomForestClassifier(n_estimators = 100, criterion = 'entropy', random_state = 0)\n",
    "classifier.fit(encX_train, y_bal)"
   ]
  },
  {
   "cell_type": "code",
   "execution_count": 122,
   "id": "1aa06b0b",
   "metadata": {},
   "outputs": [
    {
     "name": "stdout",
     "output_type": "stream",
     "text": [
      "[[18741  2992]\n",
      " [  459  1654]]\n"
     ]
    },
    {
     "data": {
      "text/plain": [
       "0.8552797114820095"
      ]
     },
     "execution_count": 122,
     "metadata": {},
     "output_type": "execute_result"
    }
   ],
   "source": [
    "y_pred = classifier.predict(encX_test)\n",
    "confMatrix = confusion_matrix(y_test, y_pred)\n",
    "print(confMatrix)\n",
    "\n",
    "accuracy_score(y_test, y_pred)"
   ]
  }
 ],
 "metadata": {
  "kernelspec": {
   "display_name": "Python 3",
   "language": "python",
   "name": "python3"
  },
  "language_info": {
   "codemirror_mode": {
    "name": "ipython",
    "version": 3
   },
   "file_extension": ".py",
   "mimetype": "text/x-python",
   "name": "python",
   "nbconvert_exporter": "python",
   "pygments_lexer": "ipython3",
   "version": "3.8.8"
  }
 },
 "nbformat": 4,
 "nbformat_minor": 5
}
